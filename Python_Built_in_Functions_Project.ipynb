{
  "cells": [
    {
      "cell_type": "markdown",
      "metadata": {
        "id": "view-in-github",
        "colab_type": "text"
      },
      "source": [
        "<a href=\"https://colab.research.google.com/github/MehtabSandhu11/AIML25/blob/main/Python_Built_in_Functions_Project.ipynb\" target=\"_parent\"><img src=\"https://colab.research.google.com/assets/colab-badge.svg\" alt=\"Open In Colab\"/></a>"
      ]
    },
    {
      "cell_type": "markdown",
      "metadata": {
        "id": "Gc7fOzylPQdo"
      },
      "source": [
        "# **This is my first project showcasing most commonly used Built-In Functions in Python**"
      ]
    },
    {
      "cell_type": "markdown",
      "source": [
        "Input/Output Functions"
      ],
      "metadata": {
        "id": "V_g_bGGWyfvi"
      }
    },
    {
      "cell_type": "code",
      "source": [
        "# print() : print the output to the console\n",
        "print('Mehtab Sandhu')\n",
        "x = [20,40,60]\n",
        "print(x)"
      ],
      "metadata": {
        "colab": {
          "base_uri": "https://localhost:8080/"
        },
        "id": "23qvE4mZt_-i",
        "outputId": "92295cfc-1dfe-4a27-afad-d1c5f0ac8e86"
      },
      "execution_count": 12,
      "outputs": [
        {
          "output_type": "stream",
          "name": "stdout",
          "text": [
            "Mehtab Sandhu\n",
            "[20, 40, 60]\n"
          ]
        }
      ]
    },
    {
      "cell_type": "code",
      "execution_count": 13,
      "metadata": {
        "colab": {
          "base_uri": "https://localhost:8080/"
        },
        "id": "aygP9vyIByip",
        "outputId": "12bf8fb4-6661-4e8c-9e92-a8224d244ce6"
      },
      "outputs": [
        {
          "output_type": "stream",
          "name": "stdout",
          "text": [
            "1203\n",
            "My name is 1203\n"
          ]
        }
      ],
      "source": [
        "# input() : Take input from the user as a string\n",
        "x = input()\n",
        "print('My name is',x)"
      ]
    },
    {
      "cell_type": "code",
      "execution_count": 14,
      "metadata": {
        "id": "zQvNHG8HB4pb",
        "colab": {
          "base_uri": "https://localhost:8080/"
        },
        "outputId": "e11ee832-ea2f-4e61-852e-ecf7c5df2a0e"
      },
      "outputs": [
        {
          "output_type": "stream",
          "name": "stdout",
          "text": [
            "This is the content of the file that's been opened through this code\n"
          ]
        }
      ],
      "source": [
        "# open() : Open a file and return its object\n",
        "f = open(\"/content/demo file.txt\", \"r\")\n",
        "print(f.read())"
      ]
    },
    {
      "cell_type": "markdown",
      "metadata": {
        "id": "VnYnCwJdSJh4"
      },
      "source": [
        "Type Converion & Casting Functions"
      ]
    },
    {
      "cell_type": "code",
      "execution_count": 15,
      "metadata": {
        "colab": {
          "base_uri": "https://localhost:8080/"
        },
        "id": "thfpy6PHNdSH",
        "outputId": "ab0a097f-e7db-4c78-d03c-84770fe4870b"
      },
      "outputs": [
        {
          "output_type": "stream",
          "name": "stdout",
          "text": [
            "int() fn. on integer value: 20\n",
            "int() fn. on Float Value: 19\n",
            "int() fn. on string representation of number: 22\n"
          ]
        }
      ],
      "source": [
        "# int() , float() , str() , bool() , complex() , list() , tuple() , set() , dict() , frozenset() , bytes() , bytearray() , memoryview()\n",
        "\n",
        "# int() : Returns an integer value\n",
        "\n",
        "# int() on Integer\n",
        "print('int() fn. on integer value:',int(20))\n",
        "# int() on Float Value\n",
        "print('int() fn. on Float Value:',int(19.1))\n",
        "# int() fn. on string representation of numbers\n",
        "print('int() fn. on string representation of number:',int('22'))\n",
        "\n"
      ]
    },
    {
      "cell_type": "code",
      "execution_count": 16,
      "metadata": {
        "colab": {
          "base_uri": "https://localhost:8080/"
        },
        "id": "AbTWQNaszmsQ",
        "outputId": "9e169a0c-c9b2-4ff5-a480-19a4330a0b36"
      },
      "outputs": [
        {
          "output_type": "stream",
          "name": "stdout",
          "text": [
            "float() on Integer: 30.0\n",
            "float() fn. on float value: 20.5\n",
            "float() fn. on string representation of numbers: -18.4\n"
          ]
        }
      ],
      "source": [
        "# float() - Returns a floating point number\n",
        "\n",
        "# float() on Integer\n",
        "print('float() on Integer:',float(30))\n",
        "# float() on float value\n",
        "print('float() fn. on float value:',float(20.5))\n",
        "# float() on string representation of numbers\n",
        "print('float() fn. on string representation of numbers:',float('-18.4'))"
      ]
    },
    {
      "cell_type": "code",
      "execution_count": 17,
      "metadata": {
        "colab": {
          "base_uri": "https://localhost:8080/"
        },
        "id": "YU-3jbDv1Lka",
        "outputId": "10a521e1-c9e2-4250-f616-c1da95ae0ec6"
      },
      "outputs": [
        {
          "output_type": "stream",
          "name": "stdout",
          "text": [
            "dtype before conversion: <class 'int'>\n",
            "dtype after conversion: <class 'str'>\n",
            "dtype before conversion: <class 'float'>\n",
            "dtype after conversion: <class 'str'>\n"
          ]
        }
      ],
      "source": [
        "# str() - Returns a string object\n",
        "\n",
        "# coverting integer to string\n",
        "a = 10\n",
        "print('dtype before conversion:',type(a))\n",
        "b = str(a)\n",
        "print('dtype after conversion:',type(b))\n",
        "\n",
        "# converting float to string\n",
        "c = 12.3\n",
        "print('dtype before conversion:',type(c))\n",
        "d = str(c)\n",
        "print('dtype after conversion:',type(d))\n"
      ]
    },
    {
      "cell_type": "code",
      "execution_count": 18,
      "metadata": {
        "colab": {
          "base_uri": "https://localhost:8080/"
        },
        "id": "yT-mrNrW2xaP",
        "outputId": "74ad4832-3d72-4777-d4bf-e48f341cf24e"
      },
      "outputs": [
        {
          "output_type": "stream",
          "name": "stdout",
          "text": [
            "True\n",
            "False\n",
            "False\n",
            "True\n",
            "True\n",
            "False\n",
            "True\n",
            "True\n",
            "False\n",
            "False\n",
            "True\n",
            "False\n",
            "True\n",
            "False\n",
            "True\n",
            "False\n"
          ]
        }
      ],
      "source": [
        "# bool() - Returns the boolean value of the specified object\n",
        "\n",
        "print(bool(True))\n",
        "print(bool(False))\n",
        "print(bool(0))\n",
        "print(bool(1))\n",
        "print(bool(-1))\n",
        "print(bool(0.0))\n",
        "print(bool(3.14))\n",
        "print(bool(2<4))\n",
        "print(bool(2>4))\n",
        "print(bool(\"\"))\n",
        "print(bool(\"Hello\"))\n",
        "print(bool([]))\n",
        "print(bool([3,5,7]))\n",
        "print(bool({}))\n",
        "print(bool({'a': 10,'b':30}))\n",
        "print(bool(None))"
      ]
    },
    {
      "cell_type": "code",
      "execution_count": 19,
      "metadata": {
        "colab": {
          "base_uri": "https://localhost:8080/"
        },
        "id": "rrPNAeGE4S4I",
        "outputId": "a2eebf02-67b2-4ec4-cd30-b3233e755f99"
      },
      "outputs": [
        {
          "output_type": "stream",
          "name": "stdout",
          "text": [
            "(2+5j)\n",
            "(20+0j)\n",
            "0j\n",
            "2.0\n",
            "5.0\n"
          ]
        }
      ],
      "source": [
        "# complex - Returns a complex value\n",
        "# Creating complex numbers\n",
        "c1 = complex(2, 5)\n",
        "c2 = complex(20)\n",
        "c3 = complex()\n",
        "\n",
        "print(c1)\n",
        "print(c2)\n",
        "print(c3)\n",
        "# Printing the Real and Imaginary part of the Complex Number\n",
        "print(c1.real)\n",
        "print(c1.imag)"
      ]
    },
    {
      "cell_type": "code",
      "source": [
        "# list() : Creates a list object\n",
        "\n",
        "# Using list()\n",
        "res = list((5,4,6,7))\n",
        "print(res)\n",
        "\n",
        "# converting tuple to list\n",
        "tup = (10,20,30,40,50)\n",
        "res = list(tup)\n",
        "print(res)\n",
        "\n",
        "my_set = {1, 2, 3, 4, 5}\n",
        "\n",
        "# converting set to list\n",
        "res = list(my_set)\n",
        "print(res)\n",
        "\n",
        "d = {'A': 10, 'B': 20, 'C': 30}\n",
        "\n",
        "# Converting dictionary to list\n",
        "res = list(d)\n",
        "print(res)\n",
        "\n",
        "# taking user input (for eg: 34325)\n",
        "user_input_list = list(input(\"Enter list elements: \"))\n",
        "\n",
        "print(user_input_list)"
      ],
      "metadata": {
        "colab": {
          "base_uri": "https://localhost:8080/"
        },
        "id": "gu-8Slzx2hsY",
        "outputId": "42d455c7-21ba-4899-e6dc-eff2ca95921f"
      },
      "execution_count": 20,
      "outputs": [
        {
          "output_type": "stream",
          "name": "stdout",
          "text": [
            "[5, 4, 6, 7]\n",
            "[10, 20, 30, 40, 50]\n",
            "[1, 2, 3, 4, 5]\n",
            "['A', 'B', 'C']\n",
            "Enter list elements: 232435\n",
            "['2', '3', '2', '4', '3', '5']\n"
          ]
        }
      ]
    },
    {
      "cell_type": "code",
      "execution_count": 21,
      "metadata": {
        "colab": {
          "base_uri": "https://localhost:8080/"
        },
        "id": "oDS9fxwP5-a2",
        "outputId": "81b58f4c-ff4e-47ec-d148-cb1de8a68fba"
      },
      "outputs": [
        {
          "output_type": "stream",
          "name": "stdout",
          "text": [
            "(1, 2, 3)\n",
            "empty tuple: ()\n",
            "list to tuple: (1, 2, 3, 4)\n",
            "str to tuple: ('M', 'e', 'h', 't', 'a', 'b', ' ', 'S', 'a', 'n', 'd', 'h', 'u')\n",
            "(('apple', 1), ('banana', 2), ('cherry', 3))\n"
          ]
        }
      ],
      "source": [
        "# tuple - Returns a tuple\n",
        "l = [1,2,3]\n",
        "print(tuple(l))\n",
        "\n",
        "# when parameter is not passed\n",
        "tuple1 = tuple()\n",
        "print(\"empty tuple:\", tuple1)\n",
        "\n",
        "# when an iterable(e.g., list) is passed\n",
        "list1= [ 1, 2, 3, 4 ]\n",
        "tuple2 = tuple(list1)\n",
        "print(\"list to tuple:\", tuple2)\n",
        "\n",
        "# when an iterable(e.g., string) is passed\n",
        "string = \"Mehtab Sandhu\";\n",
        "tuple4 = tuple(string)\n",
        "print(\"str to tuple:\", tuple4)\n",
        "\n",
        "my_dict = {'apple': 1, 'banana': 2, 'cherry': 3}\n",
        "my_tuple = tuple(my_dict.items())\n",
        "print(my_tuple)\n",
        "\n",
        "\n"
      ]
    },
    {
      "cell_type": "code",
      "execution_count": 22,
      "metadata": {
        "id": "HzYvmlil6yAP",
        "colab": {
          "base_uri": "https://localhost:8080/"
        },
        "outputId": "78add772-a3bf-4ad4-b58a-8712aa82759e"
      },
      "outputs": [
        {
          "output_type": "stream",
          "name": "stdout",
          "text": [
            "set()\n",
            "<class 'set'>\n",
            "original list: [1, 2, 3, 4, 2, 3, 5]\n",
            "new set: {1, 2, 3, 4, 5}\n",
            "original tuple: (1, 2, 3, 4, 2, 3, 5)\n",
            "new set: {1, 2, 3, 4, 5}\n",
            "original dictionary: {'a': 1, 'b': 2, 'c': 3}\n",
            "new set: {'b', 'c', 'a'}\n",
            "original string: Mehtab Sandhu\n",
            "new set: {'b', 't', 'h', 'a', ' ', 'e', 'S', 'n', 'd', 'M', 'u'}\n"
          ]
        }
      ],
      "source": [
        "# set() : Returns a new set object\n",
        "\n",
        "# Creating an empty set\n",
        "a = set()\n",
        "print(a)\n",
        "print(type(a))\n",
        "\n",
        "# Converting a list into set\n",
        "b = [1, 2, 3, 4, 2, 3, 5]\n",
        "c = set(b)\n",
        "print('original list:',b)\n",
        "print('new set:',c)\n",
        "\n",
        "# Converting a tuple into set\n",
        "d = (1, 2, 3, 4, 2, 3, 5)\n",
        "e = set(d)\n",
        "print('original tuple:',d)\n",
        "print('new set:',e)\n",
        "\n",
        "# Coverting a Dictionary into set\n",
        "f = {'a': 1, 'b': 2, 'c': 3}\n",
        "g = set(f)\n",
        "print('original dictionary:',f)\n",
        "print('new set:',g)\n",
        "# Converting a string into set\n",
        "h = \"Mehtab Sandhu\"\n",
        "i = set(h)\n",
        "print('original string:',h)\n",
        "print('new set:',i)\n",
        "\n"
      ]
    },
    {
      "cell_type": "code",
      "source": [
        "# dict() : Returns a Python Dictionary\n",
        "\n",
        "# Creating dictionary using keyword arguments\n",
        "Dict1 = dict(a=1, b=2, c=3, d=4)\n",
        "print(Dict1)\n",
        "\n",
        "# creating a dictionary from a list of tuples\n",
        "Dict2 = dict([('a', 10), ('b', 20), ('c', 30), ('d',40)])\n",
        "print(Dict2)"
      ],
      "metadata": {
        "colab": {
          "base_uri": "https://localhost:8080/"
        },
        "id": "DnAIVdTH5v_0",
        "outputId": "893ae131-988c-4102-b76c-5f8535e48062"
      },
      "execution_count": 26,
      "outputs": [
        {
          "output_type": "stream",
          "name": "stdout",
          "text": [
            "{'a': 1, 'b': 2, 'c': 3, 'd': 4}\n",
            "{'a': 10, 'b': 20, 'c': 30, 'd': 40}\n"
          ]
        }
      ]
    },
    {
      "cell_type": "code",
      "source": [
        "# bin() : Returns the binary version of a number\n",
        "num1 = int(input(\"Enter a number: \"))\n",
        "print(bin(num1))"
      ],
      "metadata": {
        "colab": {
          "base_uri": "https://localhost:8080/"
        },
        "id": "NK9izV3C-WYF",
        "outputId": "83fd63ad-e7b8-465f-f562-5319f9b40df3"
      },
      "execution_count": 27,
      "outputs": [
        {
          "output_type": "stream",
          "name": "stdout",
          "text": [
            "Enter a number: 683\n",
            "0b1010101011\n"
          ]
        }
      ]
    },
    {
      "cell_type": "code",
      "source": [
        "# Creates a bytes object of length 5, with all zero values\n",
        "a = bytes(5)\n",
        "print(a)\n",
        "\n",
        "# Converting a list of integers into bytes\n",
        "b = [10, 20, 30, 40, 50]\n",
        "c = bytes(b)\n",
        "print(c)\n",
        "\n",
        "# Converting a string to bytes\n",
        "Str1 = \"Mehtab Sandhu\"\n",
        "d = bytes(Str1, 'utf-16')\n",
        "e = bytes(Str1, 'ascii')\n",
        "print(d)\n",
        "print(e)"
      ],
      "metadata": {
        "colab": {
          "base_uri": "https://localhost:8080/"
        },
        "id": "FI3vsfvu__uO",
        "outputId": "931ca466-2794-4678-8529-49a92d11b211"
      },
      "execution_count": 11,
      "outputs": [
        {
          "output_type": "stream",
          "name": "stdout",
          "text": [
            "b'\\x00\\x00\\x00\\x00\\x00'\n",
            "b'\\n\\x14\\x1e(2'\n",
            "b'\\xff\\xfeM\\x00e\\x00h\\x00t\\x00a\\x00b\\x00 \\x00S\\x00a\\x00n\\x00d\\x00h\\x00u\\x00'\n",
            "b'Mehtab Sandhu'\n"
          ]
        }
      ]
    },
    {
      "cell_type": "markdown",
      "source": [
        "Mathematical Operations"
      ],
      "metadata": {
        "id": "VB8dfNuxD-bv"
      }
    },
    {
      "cell_type": "code",
      "source": [
        "# abs() : Returns the absolute value of a number\n",
        "# An integer\n",
        "Int = -94\n",
        "print('Absolute value of integer is:', abs(Int))\n",
        "# floating point number\n",
        "Float = -54.26\n",
        "print('Absolute value of float is:',abs(Float))\n",
        "# A complex number\n",
        "Complex = (3 - 4j)\n",
        "print('Absolute value or Magnitude of complex is:', abs(Complex))"
      ],
      "metadata": {
        "colab": {
          "base_uri": "https://localhost:8080/"
        },
        "id": "DyZ_ySLQ-ojE",
        "outputId": "168d7d06-e096-4374-acef-6378b248aef2"
      },
      "execution_count": 30,
      "outputs": [
        {
          "output_type": "stream",
          "name": "stdout",
          "text": [
            "Absolute value of integer is: 94\n",
            "Absolute value of float is: 54.26\n",
            "Absolute value or Magnitude of complex is: 5.0\n"
          ]
        }
      ]
    },
    {
      "cell_type": "code",
      "source": [
        "# round() : rounds up the number\n",
        "\n",
        "# round to the nearest integer (no parameter present)\n",
        "x = round(5.76543)\n",
        "print(x)\n",
        "\n",
        "# rounding if second parameter is present\n",
        "# when the (ndigit+1)th digit is =5\n",
        "print(round(2.655, 1))\n",
        "\n",
        "# when the (ndigit+1)th digit is >=5\n",
        "print(round(2.6636, 1))\n",
        "\n",
        "# when the (ndigit+1)th digit is <5\n",
        "print(round(2.623, 1))"
      ],
      "metadata": {
        "colab": {
          "base_uri": "https://localhost:8080/"
        },
        "id": "-LQloltcE8fz",
        "outputId": "6765a4e1-7df4-4412-d8d5-ea84c3220ec6"
      },
      "execution_count": 37,
      "outputs": [
        {
          "output_type": "stream",
          "name": "stdout",
          "text": [
            "6\n",
            "2.7\n",
            "2.7\n",
            "2.6\n"
          ]
        }
      ]
    },
    {
      "cell_type": "code",
      "source": [
        "# pow() : Returns the value of x to the power of y\n",
        "\n",
        "# +x, +y\n",
        "print(pow(3,4))\n",
        "\n",
        "# -x, +y\n",
        "print(pow(-3,4))\n",
        "\n",
        "# +x, -y\n",
        "print(pow(3,-4))\n",
        "\n",
        "# -x, -y\n",
        "print(pow(3,-4))\n"
      ],
      "metadata": {
        "colab": {
          "base_uri": "https://localhost:8080/"
        },
        "id": "LD4OFgrTGq0E",
        "outputId": "54a945c6-2722-4b5c-ab17-56be1615de39"
      },
      "execution_count": 42,
      "outputs": [
        {
          "output_type": "stream",
          "name": "stdout",
          "text": [
            "81\n",
            "81\n",
            "0.012345679012345678\n",
            "0.012345679012345678\n"
          ]
        }
      ]
    },
    {
      "cell_type": "code",
      "source": [
        "# divmod() : Returns the quotient and the remainder when argument1 is divided by argument2\n",
        "print('The quotient and the remainder of this division is',divmod(133,32))\n",
        "print('The quotient and the remainder of this division is',divmod(12,123))"
      ],
      "metadata": {
        "colab": {
          "base_uri": "https://localhost:8080/"
        },
        "id": "yUQOwM88I55h",
        "outputId": "b29db38b-bd2f-4b08-83fb-27bb64b98679"
      },
      "execution_count": 49,
      "outputs": [
        {
          "output_type": "stream",
          "name": "stdout",
          "text": [
            "The quotient and the remainder of this division is (4, 5)\n",
            "The quotient and the remainder of this division is (0, 12)\n"
          ]
        }
      ]
    },
    {
      "cell_type": "code",
      "source": [
        "# sum() : Returns the sum of all items in an iterable\n",
        "\n",
        "# sum of all items in a list\n",
        "a = [10,30,3,2,7,4]\n",
        "print('sum of all items in given list:',sum(a))\n",
        "\n",
        "# sum of all items in a tuple\n",
        "b = (70,3,22,8,6)\n",
        "print('sum of all items in given tuple:',sum(b))\n",
        "\n",
        "# sum of all items in a dictionary\n",
        "Dict = {'a': 10, 'b': 20, 'c': 30}\n",
        "Sum1 = sum(Dict.values())\n",
        "print('sum of all items in given dictionary:',Sum1)\n",
        "\n",
        "Set = {1, 2, 3, 4, 5}\n",
        "Sum2 = sum(Set)\n",
        "print('sum of all items in given set:',Sum2)"
      ],
      "metadata": {
        "colab": {
          "base_uri": "https://localhost:8080/"
        },
        "id": "0QYS5H9aKzjp",
        "outputId": "16d21b2c-9644-4f2f-c01b-94c546ff20f8"
      },
      "execution_count": 55,
      "outputs": [
        {
          "output_type": "stream",
          "name": "stdout",
          "text": [
            "sum of all items in given list: 56\n",
            "sum of all items in given tuple: 109\n",
            "sum of all items in given dictionary: 60\n",
            "sum of all items in given set: 15\n"
          ]
        }
      ]
    },
    {
      "cell_type": "code",
      "source": [
        "# min() : Returns the smallest number from an iterable\n",
        "#max()  : Returns the largest number from an iterable\n",
        "\n",
        "list1 = [2,4,64,4,12,42]\n",
        "tup1 = (24,43,754,24,12)\n",
        "set1 = {1,3,6,13,74,99,2,5}\n",
        "\n",
        "print('minimum value in list:',min(list1))\n",
        "print('maximum value in list:',max(list1))\n",
        "print('minimum value in tuple:',min(tup1))\n",
        "print('maximum value in tuple:',max(tup1))\n",
        "print('minimum value in set:',min(set1))\n",
        "print('maximum value in set:',max(set1))"
      ],
      "metadata": {
        "colab": {
          "base_uri": "https://localhost:8080/"
        },
        "id": "zSdhKWk1MbnI",
        "outputId": "1eb7fdf9-d5d0-4700-cccb-24521d306c14"
      },
      "execution_count": 59,
      "outputs": [
        {
          "output_type": "stream",
          "name": "stdout",
          "text": [
            "minimum value in list: 2\n",
            "maximum value in list: 64\n",
            "minimum value in tuple: 12\n",
            "maximum value in tuple: 754\n",
            "minimum value in set: 1\n",
            "maximum value in set: 99\n"
          ]
        }
      ]
    },
    {
      "cell_type": "code",
      "source": [
        "# all() : Returns True if all items in an iterable object are true else it returns false\n",
        "\n",
        "# All elements of list are true\n",
        "L1 = [4, 5, 1]\n",
        "print(all(L1))\n",
        "\n",
        "# All elements of list are false\n",
        "L2 = [0, 0, False]\n",
        "print(all(L2))\n",
        "\n",
        "# Some elements of list are true while others are false\n",
        "L3 = [1, 0, 6, 7, False]\n",
        "print(all(L3))\n",
        "\n",
        "# Empty List\n",
        "L4 = []\n",
        "print(all(L4))\n",
        "\n",
        "# To check if all elements are greater than 0\n",
        "L5 = [1,-3,0,2,4]\n",
        "print(all(ele > 0 for ele in L5))"
      ],
      "metadata": {
        "colab": {
          "base_uri": "https://localhost:8080/"
        },
        "id": "Ek98QypdPlni",
        "outputId": "39d139f4-2d3b-4c96-d711-ce5296b8d26b"
      },
      "execution_count": 60,
      "outputs": [
        {
          "output_type": "stream",
          "name": "stdout",
          "text": [
            "True\n",
            "False\n",
            "False\n",
            "True\n",
            "False\n"
          ]
        }
      ]
    },
    {
      "cell_type": "code",
      "source": [
        "# any() : Returns True if any item in an iterable object is true else it returns false\n",
        "\n",
        "# All elements of list are true\n",
        "L1 = [4, 5, 1]\n",
        "print(any(L1))\n",
        "\n",
        "# All elements of list are false\n",
        "L2 = [0, 0, False]\n",
        "print(any(L2))\n",
        "\n",
        "# Some elements of list are true while others are false\n",
        "L3 = [1, 0, 6, 7, False]\n",
        "print(any(L3))\n",
        "\n",
        "# Empty List\n",
        "L4 = []\n",
        "print(any(L4))\n",
        "\n",
        "# To check if even a single element is greater than 0\n",
        "L5 = [1,-3,0,2,4]\n",
        "print(any(ele > 0 for ele in L5))"
      ],
      "metadata": {
        "colab": {
          "base_uri": "https://localhost:8080/"
        },
        "id": "urOwA5n-QKgu",
        "outputId": "82bb2105-60ae-4212-ab26-b196259a70b0"
      },
      "execution_count": 62,
      "outputs": [
        {
          "output_type": "stream",
          "name": "stdout",
          "text": [
            "True\n",
            "False\n",
            "True\n",
            "False\n",
            "True\n"
          ]
        }
      ]
    },
    {
      "cell_type": "markdown",
      "source": [
        "Sequence and Collection Functions"
      ],
      "metadata": {
        "id": "GqrOMvF_SOA7"
      }
    },
    {
      "cell_type": "code",
      "source": [
        "# len() : Returns the length of an object\n",
        "string = \"Mehtab Sandhu\"\n",
        "tup1 = (24,43,754,24,12)\n",
        "dict1 = {'a': 10, 'b': 20, 'c': 30}\n",
        "set1 = {1, 3, 6, 13, 74, 99, 2, 5}\n",
        "list1 = [\"apple\", \"banana\", \"guava\",\"cherry\"]\n",
        "r = range(1, 5)\n",
        "\n",
        "print('length of string:',len(string))\n",
        "print('length of tuple:',len(tup1))\n",
        "print('length of dictionary:',len(dict1))\n",
        "print('length of set:',len(set1))\n",
        "print('length of list:',len(list1))\n",
        "print('length of range:',len(r))"
      ],
      "metadata": {
        "colab": {
          "base_uri": "https://localhost:8080/"
        },
        "id": "7_g2WI1AR6Bn",
        "outputId": "aed0992b-9740-4cd6-c859-4170958339db"
      },
      "execution_count": 33,
      "outputs": [
        {
          "output_type": "stream",
          "name": "stdout",
          "text": [
            "length of string: 13\n",
            "length of tuple: 5\n",
            "length of dictionary: 3\n",
            "length of set: 8\n",
            "length of list: 4\n",
            "length of range: 4\n"
          ]
        }
      ]
    },
    {
      "cell_type": "code",
      "source": [
        "# sorted() : Returns a list with the elements in a sorted manner, without modifying the original iterable\n",
        "list2 = [2,4,64,4,12,42]\n",
        "dict2 = {'a': 42, 'b': 35, 'c': 23, 'd':12,'e':39}\n",
        "tup2 = (10,20,30,45,22,4,5)\n",
        "set2 = {1, 3, 6, 13, 74, 99, 2, 5}\n",
        "print('Sorting in Ascending Order:')\n",
        "print('sorted list:',sorted(list2))\n",
        "print('sorted dictionary:',sorted(dict2))\n",
        "print('sorted tuple:',sorted(tup2))\n",
        "print('sorted set:',sorted(set2))\n",
        "print('Sorting in Descending Order:')\n",
        "print('sorted list:',sorted(list2,reverse=True))\n",
        "print('sorted dictionary:',sorted(dict2,reverse=True))\n",
        "print('sorted tuple:',sorted(tup2,reverse=True))\n",
        "print('sorted set:',sorted(set2,reverse=True))\n"
      ],
      "metadata": {
        "colab": {
          "base_uri": "https://localhost:8080/"
        },
        "id": "cfyoYjOLjzZ8",
        "outputId": "1cb79cc3-b7b5-405a-c96e-93fc6b4c2c96"
      },
      "execution_count": 15,
      "outputs": [
        {
          "output_type": "stream",
          "name": "stdout",
          "text": [
            "Sorting in Ascending Order:\n",
            "sorted list: [2, 4, 4, 12, 42, 64]\n",
            "sorted dictionary: ['a', 'b', 'c', 'd', 'e']\n",
            "sorted tuple: [4, 5, 10, 20, 22, 30, 45]\n",
            "sorted set: [1, 2, 3, 5, 6, 13, 74, 99]\n",
            "Sorting in Descending Order:\n",
            "sorted list: [64, 42, 12, 4, 4, 2]\n",
            "sorted dictionary: ['e', 'd', 'c', 'b', 'a']\n",
            "sorted tuple: [45, 30, 22, 20, 10, 5, 4]\n",
            "sorted set: [99, 74, 13, 6, 5, 3, 2, 1]\n"
          ]
        }
      ]
    },
    {
      "cell_type": "code",
      "source": [
        "# reversed() : Returns a reversed iterator\n",
        "\n",
        "# For list\n",
        "a = [\"G63\", \"Hector\", \"Scorpio\", \"C Class\"]\n",
        "print('reversed list:',list(reversed(a)))\n",
        "\n",
        "# For tuple\n",
        "tup = ('u', 'h', 'd', 'i', 's')\n",
        "print('reversed tuple:',list(reversed(tup)))\n",
        "\n",
        "# For range\n",
        "r = range(1, 5)\n",
        "print('reversed range:',list(reversed(r)))\n",
        "\n",
        "# For string\n",
        "s = \"Python\"\n",
        "print('reversed list of characters of given string:',list(reversed(s)))"
      ],
      "metadata": {
        "colab": {
          "base_uri": "https://localhost:8080/"
        },
        "id": "TC6_hPNommlT",
        "outputId": "5d070a28-bd2e-47cc-bec7-f088310f50e7"
      },
      "execution_count": 26,
      "outputs": [
        {
          "output_type": "stream",
          "name": "stdout",
          "text": [
            "reversed list: ['C Class', 'Scorpio', 'Hector', 'G63']\n",
            "reversed tuple: ['s', 'i', 'd', 'h', 'u']\n",
            "reversed range: [4, 3, 2, 1]\n",
            "reversed list of characters of given string: ['n', 'o', 'h', 't', 'y', 'P']\n"
          ]
        }
      ]
    },
    {
      "cell_type": "code",
      "source": [
        "# enumerate() : Takes a collection and returns it as an enumerate object.\n",
        "\n",
        "list1 = ['Mehtab','Jasjit','Deep Yuvraj','Gurnoor']\n",
        "print('For List:')\n",
        "print(enumerate(list1))\n",
        "print(list(enumerate(list1)))\n",
        "print(list(enumerate(list1,start=1)))\n",
        "print('')\n",
        "\n",
        "print('For Tuple:')\n",
        "tup1 = ('Gurman', 'Simar', 'Narendar', 'Modi', 'Kadam')\n",
        "print(enumerate(tup1))\n",
        "print(list(enumerate(tup1)))\n",
        "print(list(enumerate(tup1,start=1)))\n",
        "print('')\n",
        "\n",
        "print('For Dictionary:')\n",
        "dict1 = {'a': 10, 'b': 20, 'c': 30}\n",
        "print(enumerate(dict1))\n",
        "print(list(enumerate(dict1)))\n",
        "print(list(enumerate(dict1,start=1)))\n",
        "print('')\n",
        "\n",
        "string = \"Mehtab\"\n",
        "print('For String:')\n",
        "print(enumerate(string))\n",
        "print(list(enumerate(string)))\n",
        "print(list(enumerate(string,start=1)))"
      ],
      "metadata": {
        "colab": {
          "base_uri": "https://localhost:8080/"
        },
        "id": "KEsuXJEirODS",
        "outputId": "3fb82b27-01eb-4692-cd19-bdd56a4be5c1"
      },
      "execution_count": 56,
      "outputs": [
        {
          "output_type": "stream",
          "name": "stdout",
          "text": [
            "For List:\n",
            "<enumerate object at 0x789362e40680>\n",
            "[(0, 'Mehtab'), (1, 'Jasjit'), (2, 'Deep Yuvraj'), (3, 'Gurnoor')]\n",
            "[(1, 'Mehtab'), (2, 'Jasjit'), (3, 'Deep Yuvraj'), (4, 'Gurnoor')]\n",
            "\n",
            "For Tuple:\n",
            "<enumerate object at 0x789362e40450>\n",
            "[(0, 'Gurman'), (1, 'Simar'), (2, 'Narendar'), (3, 'Modi'), (4, 'Kadam')]\n",
            "[(1, 'Gurman'), (2, 'Simar'), (3, 'Narendar'), (4, 'Modi'), (5, 'Kadam')]\n",
            "\n",
            "For Dictionary:\n",
            "<enumerate object at 0x789362e40ef0>\n",
            "[(0, 'a'), (1, 'b'), (2, 'c')]\n",
            "[(1, 'a'), (2, 'b'), (3, 'c')]\n",
            "\n",
            "For String:\n",
            "<enumerate object at 0x789362e402c0>\n",
            "[(0, 'M'), (1, 'e'), (2, 'h'), (3, 't'), (4, 'a'), (5, 'b')]\n",
            "[(1, 'M'), (2, 'e'), (3, 'h'), (4, 't'), (5, 'a'), (6, 'b')]\n"
          ]
        }
      ]
    },
    {
      "cell_type": "code",
      "source": [
        "# zip() : Combines multiple iterables into a single interable to tuples\n",
        "\n",
        "Admn_No = [85, 90, 78, 92]\n",
        "Students = ['Simar', 'Gurnoor', 'Noor', 'Mehtab']\n",
        "\n",
        "# No iterables are passed\n",
        "zip1 = zip()\n",
        "print('When no iterable passed:',list(res))\n",
        "\n",
        "# One iterable is passed\n",
        "zip2 = zip(Admn_No)\n",
        "print('When 1 iterable passed:',list(zip2))\n",
        "\n",
        "# Two iterables are passed\n",
        "zip3 = zip(Admn_No,Students)\n",
        "print('When 2 iterables passed:',list(zip3))\n",
        "\n",
        "# When lenghts of both iterables are different\n",
        "a = [1, 2, 3, 4, 5,6,7,8,9,10,11,12]\n",
        "b = ['a', 'b', 'c']\n",
        "zip4 = zip(a,b)\n",
        "print('When lengths of both iterables are different:',list(zip4))\n"
      ],
      "metadata": {
        "colab": {
          "base_uri": "https://localhost:8080/"
        },
        "id": "DLmd1zLPy0m2",
        "outputId": "a723aa7e-418a-40c1-d088-db280e24b925"
      },
      "execution_count": 64,
      "outputs": [
        {
          "output_type": "stream",
          "name": "stdout",
          "text": [
            "When no iterable passed: []\n",
            "When 1 iterable passed: [(85,), (90,), (78,), (92,)]\n",
            "When 2 iterables passed: [(85, 'Simar'), (90, 'Gurnoor'), (78, 'Noor'), (92, 'Mehtab')]\n",
            "When lengths of both iterables are different: [(1, 'a'), (2, 'b'), (3, 'c')]\n"
          ]
        }
      ]
    },
    {
      "cell_type": "code",
      "source": [
        "# filter() : returns an iterator where the items are filtered through a function to test if the item is accepted or not.\n",
        "\n",
        "# Using filter() with a Named Function\n",
        "def odd(n):\n",
        "    return n % 2 != 0\n",
        "a = [1, 2, 3, 4, 5, 6]\n",
        "b = filter(odd, a)\n",
        "print(list(b))\n",
        "\n",
        "# Using filter() with a Lambda Function\n",
        "a = [1, 2, 3, 4, 5, 6]\n",
        "b = filter(lambda x: x % 2 == 0, a)\n",
        "print(list(b))\n",
        "\n",
        "# Filtering Strings\n",
        "a = [\"apple\", \"banana\", \"cherry\", \"kiwi\", \"grape\"]\n",
        "b = filter(lambda w: len(w) > 5, a)\n",
        "print(list(b))\n",
        "\n",
        "# To remove all falsy values (like empty strings, None and 0) from a list.\n",
        "L = [\"apple\", \"\", None, \"banana\", 0, \"cherry\"]\n",
        "A = filter(None, L)\n",
        "print(list(A))"
      ],
      "metadata": {
        "colab": {
          "base_uri": "https://localhost:8080/"
        },
        "id": "by720JkA2IZZ",
        "outputId": "bf29b447-6b2d-406d-eaad-37d892ed69db"
      },
      "execution_count": 71,
      "outputs": [
        {
          "output_type": "stream",
          "name": "stdout",
          "text": [
            "[1, 3, 5]\n",
            "[2, 4, 6]\n",
            "['banana', 'cherry']\n",
            "['apple', 'banana', 'cherry']\n"
          ]
        }
      ]
    },
    {
      "cell_type": "code",
      "source": [
        "# Returns the specified iterator with the specified function applied to each item\n",
        "\n",
        "# Converting list of strings to list of integers using map()\n",
        "print('Basic Example:')\n",
        "s = ['1', '2', '3', '4']\n",
        "a = map(int, s)\n",
        "print(list(a))\n",
        "\n",
        "# map() with lambda\n",
        "print('Using map() with lambda:')\n",
        "b = [1, 2, 3, 4, 5]\n",
        "c = list(map(lambda x: x ** 2, b))\n",
        "print(c)\n",
        "\n",
        "# map() with multiple iterables\n",
        "print('Using map() with multiple iterables:')\n",
        "d = [1, 2, 3, 4 ,5]\n",
        "e = [4, 5, 6, 7, 8]\n",
        "f = map(lambda x, y: x + y, d, e)\n",
        "print(list(f))"
      ],
      "metadata": {
        "colab": {
          "base_uri": "https://localhost:8080/"
        },
        "id": "rkgegiOKMRyG",
        "outputId": "ff33bd32-6452-48d7-98aa-e5257b9cfcdc"
      },
      "execution_count": 82,
      "outputs": [
        {
          "output_type": "stream",
          "name": "stdout",
          "text": [
            "Basic Example:\n",
            "[1, 2, 3, 4]\n",
            "Using map() with lambda:\n",
            "[1, 4, 9, 16, 25]\n",
            "Using map() with multiple iterables:\n",
            "[5, 7, 9, 11, 13]\n"
          ]
        }
      ]
    },
    {
      "cell_type": "code",
      "source": [
        "# range() : Returns a sequence of numbers\n",
        "\n",
        "# 0 to stop\n",
        "print('0 to (n-1) whole numbers:')\n",
        "for i in range(6):\n",
        "    print(i ,end=' ')\n",
        "print()\n",
        "print()\n",
        "\n",
        "# start and stop\n",
        "print('start and stop:')\n",
        "for i in range(5, 20):\n",
        "    print(i ,end=' ')\n",
        "print()\n",
        "print()\n",
        "\n",
        "# start , stop and step\n",
        "print('start , stop and step:')\n",
        "for i in range(0, 10, 2):\n",
        "    print(i ,end=' ')\n",
        "print()\n",
        "print()\n",
        "\n",
        "# incrementing range using a +ve step\n",
        "# incremented by 4\n",
        "print('incrementing range:')\n",
        "for i in range(0, 30, 4):\n",
        "    print(i, end=\" \")\n",
        "print()\n",
        "print()\n",
        "\n",
        " #decrementing range using a -ve step\n",
        " # incremented by -2\n",
        "print('decrementing range:')\n",
        "for i in range(25, 2, -2):\n",
        "    print(i, end=\" \")\n",
        "print()"
      ],
      "metadata": {
        "colab": {
          "base_uri": "https://localhost:8080/"
        },
        "id": "t_HDis2SPB5W",
        "outputId": "01f8a401-2c5e-4d9b-e4d5-7f1bbb47ab78"
      },
      "execution_count": 101,
      "outputs": [
        {
          "output_type": "stream",
          "name": "stdout",
          "text": [
            "0 to (n-1) whole numbers:\n",
            "0 1 2 3 4 5 \n",
            "\n",
            "start and stop:\n",
            "5 6 7 8 9 10 11 12 13 14 15 16 17 18 19 \n",
            "\n",
            "start , stop and step:\n",
            "0 2 4 6 8 \n",
            "\n",
            "incrementing range:\n",
            "0 4 8 12 16 20 24 28 \n",
            "\n",
            "decrementing range:\n",
            "25 23 21 19 17 15 13 11 9 7 5 3 \n"
          ]
        }
      ]
    },
    {
      "cell_type": "code",
      "source": [
        "# slice() : Returns a slice object\n",
        "# String slicing\n",
        "String = 'HeliosProtocol'\n",
        "s1 = slice(3)\n",
        "s2 = slice(1, 5, 2)\n",
        "\n",
        "print(\"String slicing\")\n",
        "print(String[s1])\n",
        "print(String[s2])\n",
        "print()\n",
        "\n",
        "# List Slicing\n",
        "L = [1, 2, 3, 4, 5]\n",
        "s3 = slice(3)\n",
        "s4 = slice(1, 5, 2)\n",
        "\n",
        "print(\"List slicing\")\n",
        "print(L[s3])\n",
        "print(L[s4])\n",
        "print()\n",
        "# Tuple slicing\n",
        "T = (1, 2, 3, 4, 5)\n",
        "s5 = slice(3)\n",
        "s6 = slice(1, 5, 2)\n",
        "\n",
        "print(\"Tuple slicing\")\n",
        "print(T[s5])\n",
        "print(T[s6])\n",
        "print()\n",
        "# Negative Slicing\n",
        "l = ['a', 'b', 'c', 'd', 'e', 'f']\n",
        "s7 = slice(-2, -6, -1)\n",
        "print(\"Negative slicing\")\n",
        "print(l[s7])"
      ],
      "metadata": {
        "colab": {
          "base_uri": "https://localhost:8080/"
        },
        "id": "bRV7mJrKSXix",
        "outputId": "cfe8c2af-82c0-4458-868f-a991ce78c6ee"
      },
      "execution_count": 106,
      "outputs": [
        {
          "output_type": "stream",
          "name": "stdout",
          "text": [
            "String slicing\n",
            "Hel\n",
            "ei\n",
            "\n",
            "List slicing\n",
            "[1, 2, 3]\n",
            "[2, 4]\n",
            "\n",
            "Tuple slicing\n",
            "(1, 2, 3)\n",
            "(2, 4)\n",
            "\n",
            "Negative slicing\n",
            "['e', 'd', 'c', 'b']\n"
          ]
        }
      ]
    },
    {
      "cell_type": "markdown",
      "source": [
        "Object & Attribute"
      ],
      "metadata": {
        "id": "31-P-LO2bKE4"
      }
    },
    {
      "cell_type": "code",
      "source": [
        "# type() : Returns the type of an object\n",
        "\n",
        "a = ('Deep', 'Jass', 'Mehtab')\n",
        "b = ['Deep', 'Jass', 'Mehtab']\n",
        "c = {'Deep': 1, 'Jass':2, 'Mehtab':3}\n",
        "d = \"Hello World\"\n",
        "e = 10.23\n",
        "f = 11 + 2j\n",
        "\n",
        "print(type(a))\n",
        "print(type(b))\n",
        "print(type(c))\n",
        "print(type(d))\n",
        "print(type(e))\n",
        "print(type(f))"
      ],
      "metadata": {
        "colab": {
          "base_uri": "https://localhost:8080/"
        },
        "id": "F9wz3nYRWMAT",
        "outputId": "ca714c72-90f4-43e2-edd8-bff9c648b956"
      },
      "execution_count": 108,
      "outputs": [
        {
          "output_type": "stream",
          "name": "stdout",
          "text": [
            "<class 'tuple'>\n",
            "<class 'list'>\n",
            "<class 'dict'>\n",
            "<class 'str'>\n",
            "<class 'float'>\n",
            "<class 'complex'>\n"
          ]
        }
      ]
    },
    {
      "cell_type": "code",
      "source": [
        "# id() : Returns the id of an object\n",
        "x = 42\n",
        "y = x\n",
        "z = 42\n",
        "\n",
        "print(id(x))\n",
        "print(id(y))  # (same as x)\n",
        "print(id(z))  # (same as x and y)\n",
        "\n",
        "\n",
        "# This program shows various identities\n",
        "str1 = \"geek\"\n",
        "print(id(str1))\n",
        "\n",
        "str2 = \"geek\"\n",
        "print(id(str2))\n",
        "\n",
        "# This will return True\n",
        "print(id(str1) == id(str2))\n",
        "\n",
        "# Use in Lists\n",
        "list1 = [\"aakash\", \"priya\", \"abdul\"]\n",
        "print(id(list1[0]))\n",
        "print(id(list1[2]))\n",
        "\n",
        "# This returns false\n",
        "print(id(list1[0])==id(list1[2]))\n",
        "\n",
        "set1 = {1, 2, 3}\n",
        "set2 = {3, 2, 1}\n",
        "set3 = {1, 2, 3}\n",
        "\n",
        "print(id(set1))  # Output: <id1>\n",
        "print(id(set2))  # Output: <id2>\n",
        "print(id(set3))  # Output: <id3>\n",
        "\n",
        "tuple1 = (1, 2, 3)\n",
        "tuple2 = (3, 2, 1)\n",
        "tuple3 = (1, 2, 3)\n",
        "\n",
        "print(id(tuple1))  # Output: <id1>\n",
        "print(id(tuple2))  # Output: <id2>\n",
        "print(id(tuple3))  # Output: <id3>"
      ],
      "metadata": {
        "colab": {
          "base_uri": "https://localhost:8080/"
        },
        "id": "KhW5DIlFdzqQ",
        "outputId": "0b2072e1-ff2b-4349-c064-62a7fdf492ff"
      },
      "execution_count": 110,
      "outputs": [
        {
          "output_type": "stream",
          "name": "stdout",
          "text": [
            "11655688\n",
            "11655688\n",
            "11655688\n",
            "132574422901520\n",
            "132574422901520\n",
            "True\n",
            "132574422892832\n",
            "132574422902048\n",
            "False\n",
            "132574417186016\n",
            "132574417180864\n",
            "132574417190496\n",
            "132574417149312\n",
            "132574415696384\n",
            "132574417859776\n"
          ]
        }
      ]
    },
    {
      "cell_type": "code",
      "source": [
        "# isinstance() : Returns True if a specified object is an instance of a specified object\n",
        "x = 10\n",
        "print(isinstance(x, int))  # x is int\n",
        "\n",
        "class Animal: pass\n",
        "dog = Animal()\n",
        "print(isinstance(dog, Animal))  # dog is Animal\n",
        "a = 5\n",
        "b = [10,20,37]\n",
        "\n",
        "print(isinstance(a, int))\n",
        "print(isinstance(b, list))\n",
        "print(isinstance(b, (int, list,str)))\n",
        "\n",
        "a = \"Hello\"\n",
        "print(isinstance(a, str))\n",
        "\n",
        "b = {\"apple\": 1}\n",
        "print(isinstance(b, dict))\n"
      ],
      "metadata": {
        "id": "ChhtaRgLioZW"
      },
      "execution_count": null,
      "outputs": []
    },
    {
      "cell_type": "code",
      "source": [
        "# issubclass() :"
      ],
      "metadata": {
        "id": "sxLeqimJrWi6"
      },
      "execution_count": null,
      "outputs": []
    }
  ],
  "metadata": {
    "colab": {
      "provenance": [],
      "authorship_tag": "ABX9TyM1pm8IQz5UUBkJqRHe+mmJ",
      "include_colab_link": true
    },
    "kernelspec": {
      "display_name": "Python 3",
      "name": "python3"
    },
    "language_info": {
      "name": "python"
    }
  },
  "nbformat": 4,
  "nbformat_minor": 0
}